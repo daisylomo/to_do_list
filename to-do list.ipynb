{
 "cells": [
  {
   "cell_type": "code",
   "execution_count": 1,
   "id": "0f0333c9-dcdb-44db-b933-a4d7bb090e73",
   "metadata": {},
   "outputs": [
    {
     "data": {
      "text/plain": [
       "'\\nimmutable\\nnormal brackets\\n'"
      ]
     },
     "execution_count": 1,
     "metadata": {},
     "output_type": "execute_result"
    }
   ],
   "source": [
    "#lists\n",
    "\"\"\"\n",
    "mutable data types(whose values can be altered)\n",
    "square brackets\n",
    "\"\"\"\n",
    "#tuples\n",
    "\"\"\"\n",
    "immutable\n",
    "normal brackets\n",
    "\"\"\""
   ]
  },
  {
   "cell_type": "code",
   "execution_count": null,
   "id": "4605bb33-9567-4dbb-a201-f309f354df28",
   "metadata": {},
   "outputs": [
    {
     "name": "stdout",
     "output_type": "stream",
     "text": [
      "\n",
      "1. add \n",
      "2. delete \n",
      "3. view \n",
      "4. exit\n"
     ]
    },
    {
     "name": "stdin",
     "output_type": "stream",
     "text": [
      "What do you want to do? 2\n",
      "Which task?  rat sb out\n"
     ]
    },
    {
     "name": "stdout",
     "output_type": "stream",
     "text": [
      "No such task!\n",
      "\n",
      "1. add \n",
      "2. delete \n",
      "3. view \n",
      "4. exit\n"
     ]
    },
    {
     "name": "stdin",
     "output_type": "stream",
     "text": [
      "What do you want to do? 1\n",
      "Enter a task:  race\n"
     ]
    },
    {
     "name": "stdout",
     "output_type": "stream",
     "text": [
      "Success!\n",
      "\n",
      "1. add \n",
      "2. delete \n",
      "3. view \n",
      "4. exit\n"
     ]
    },
    {
     "name": "stdin",
     "output_type": "stream",
     "text": [
      "What do you want to do? 1\n",
      "Enter a task:  race\n"
     ]
    },
    {
     "name": "stdout",
     "output_type": "stream",
     "text": [
      "Task already included!\n",
      "\n",
      "1. add \n",
      "2. delete \n",
      "3. view \n",
      "4. exit\n"
     ]
    },
    {
     "name": "stdin",
     "output_type": "stream",
     "text": [
      "What do you want to do? 3\n"
     ]
    },
    {
     "name": "stdout",
     "output_type": "stream",
     "text": [
      "TO-DO LIST\n",
      "1.race\n",
      "\n",
      "1. add \n",
      "2. delete \n",
      "3. view \n",
      "4. exit\n"
     ]
    }
   ],
   "source": [
    "tasks = []\n",
    "\n",
    "while True:\n",
    "    print(\"\\n1. add \\n2. delete \\n3. view \\n4. exit\")\n",
    "    choice = input(\"What do you want to do?\")\n",
    "\n",
    "    if choice == \"1\":\n",
    "        task = input(\"Enter a task: \")\n",
    "        if task in tasks:\n",
    "            print(\"Task already included!\")\n",
    "        else:\n",
    "            tasks.append(task)\n",
    "            print(\"Success!\")\n",
    "            \n",
    "    elif choice == \"2\":\n",
    "        task = input(\"Which task? \")\n",
    "        if task in tasks:\n",
    "            tasks.remove(task)\n",
    "            print(\"Success!\")\n",
    "        else:\n",
    "            print(\"No such task!\")\n",
    "            \n",
    "    elif choice == \"3\":\n",
    "        print(\"TO-DO LIST\")\n",
    "        for i, task in enumerate(tasks, 1):\n",
    "            print(f\"{i}.{task}\")\n",
    "            \n",
    "    elif choice == \"4\":\n",
    "        print(\"Done!\")\n",
    "        break\n",
    "        \n",
    "    else:\n",
    "        print(\"Error! Pick a number!\")"
   ]
  },
  {
   "cell_type": "code",
   "execution_count": 10,
   "id": "d002a466-9c0a-4e09-9a8d-c24aec0d4fa0",
   "metadata": {},
   "outputs": [
    {
     "name": "stdout",
     "output_type": "stream",
     "text": [
      "\n",
      "1. Add Task\n",
      "2. Remove Task\n",
      "3. View Tasks\n",
      "4. Exit\n"
     ]
    },
    {
     "name": "stdin",
     "output_type": "stream",
     "text": [
      "Choose an option:  exit\n"
     ]
    },
    {
     "name": "stdout",
     "output_type": "stream",
     "text": [
      "Invalid choice. Try again.\n",
      "\n",
      "1. Add Task\n",
      "2. Remove Task\n",
      "3. View Tasks\n",
      "4. Exit\n"
     ]
    },
    {
     "name": "stdin",
     "output_type": "stream",
     "text": [
      "Choose an option:  no\n"
     ]
    },
    {
     "name": "stdout",
     "output_type": "stream",
     "text": [
      "Invalid choice. Try again.\n",
      "\n",
      "1. Add Task\n",
      "2. Remove Task\n",
      "3. View Tasks\n",
      "4. Exit\n"
     ]
    },
    {
     "name": "stdin",
     "output_type": "stream",
     "text": [
      "Choose an option:  1\n",
      "Enter a task:  do\n"
     ]
    },
    {
     "name": "stdout",
     "output_type": "stream",
     "text": [
      "'do' added!\n",
      "\n",
      "1. Add Task\n",
      "2. Remove Task\n",
      "3. View Tasks\n",
      "4. Exit\n"
     ]
    },
    {
     "name": "stdin",
     "output_type": "stream",
     "text": [
      "Choose an option:  4\n"
     ]
    },
    {
     "name": "stdout",
     "output_type": "stream",
     "text": [
      "Goodbye!\n"
     ]
    }
   ],
   "source": [
    "tasks = []\n",
    "\n",
    "while True:\n",
    "    print(\"\\n1. Add Task\\n2. Remove Task\\n3. View Tasks\\n4. Exit\")\n",
    "    choice = input(\"Choose an option: \")\n",
    "    \n",
    "    if choice == \"1\":\n",
    "        task = input(\"Enter a task: \")\n",
    "        tasks.append(task)\n",
    "        print(f\"'{task}' added!\")\n",
    "        \n",
    "    elif choice == \"2\":\n",
    "        task = input(\"Enter the task to remove: \")\n",
    "        if task in tasks:\n",
    "            tasks.remove(task)\n",
    "            print(f\"'{task}' removed!\")\n",
    "        else:\n",
    "            print(\"Task not found.\")\n",
    "            \n",
    "    elif choice == \"3\":\n",
    "        print(\"\\nTo-Do List:\")\n",
    "        for i, task in enumerate(tasks, 1):\n",
    "            print(f\"{i}. {task}\")\n",
    "            \n",
    "    elif choice == \"4\":\n",
    "        print(\"Goodbye!\")\n",
    "        break\n",
    "        \n",
    "    else:\n",
    "        print(\"Invalid choice. Try again.\")\n"
   ]
  },
  {
   "cell_type": "code",
   "execution_count": null,
   "id": "c01a8d1b-b549-4eb6-ac25-96b3ca472c53",
   "metadata": {},
   "outputs": [],
   "source": []
  }
 ],
 "metadata": {
  "kernelspec": {
   "display_name": "Python 3 (ipykernel)",
   "language": "python",
   "name": "python3"
  },
  "language_info": {
   "codemirror_mode": {
    "name": "ipython",
    "version": 3
   },
   "file_extension": ".py",
   "mimetype": "text/x-python",
   "name": "python",
   "nbconvert_exporter": "python",
   "pygments_lexer": "ipython3",
   "version": "3.12.4"
  }
 },
 "nbformat": 4,
 "nbformat_minor": 5
}
